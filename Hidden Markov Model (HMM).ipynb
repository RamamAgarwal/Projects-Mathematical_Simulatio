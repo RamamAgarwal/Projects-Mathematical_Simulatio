{
 "cells": [
  {
   "cell_type": "code",
   "execution_count": 20,
   "id": "c23d3123",
   "metadata": {},
   "outputs": [],
   "source": [
    "import numpy as np\n",
    "\n",
    "def viterbi_algorithm(S, Pi, E, P, Y):\n",
    "    K = len(S) # Length of state space will give K\n",
    "    T = len(Y) # Length of observation sequence will give T\n",
    "    \n",
    "    # Initialize matrices for Viterbi probabilities and paths\n",
    "    viterbi_prob = np.zeros((K, T))\n",
    "    viterbi_path = np.zeros((K, T))\n",
    "    \n",
    "    # Part I: Initialization\n",
    "    for i in range(K):\n",
    "        viterbi_prob[i][0] = Pi[i] * E[i][Y[0]]\n",
    "        viterbi_path[i][0] = 0\n",
    "    \n",
    "    # Part II: Compute Viterbi probabilities and path\n",
    "    for j in range(1, T):\n",
    "        for i in range(K):\n",
    "            viterbi_prob[i, j] = max(E[i][Y[j]] * P[k][i] * viterbi_prob[k, j-1] for k in range(K))\n",
    "            viterbi_path[i, j] = np.argmax([E[i][Y[j]] * P[k][i] * viterbi_prob[k, j-1] for k in range(K)])\n",
    "    \n",
    "    # Part III: Re-track the most likely path\n",
    "    x = []\n",
    "    x_t = np.argmax(viterbi_prob[:, T-1])\n",
    "    x.append(x_t)\n",
    "    for j in range(T-1, 0, -1):\n",
    "        x_prev = int(viterbi_path[int(x_t), j])\n",
    "        x.append(x_prev)\n",
    "        x_t = x_prev\n",
    "        \n",
    "    # Reverse path to get the correct order\n",
    "    x.reverse()\n",
    "    \n",
    "    return x, np.max(viterbi_prob[:, T-1])"
   ]
  },
  {
   "cell_type": "code",
   "execution_count": 21,
   "id": "49b64f5a",
   "metadata": {},
   "outputs": [],
   "source": [
    "import numpy as np\n",
    "def forward_algorithm(S, Pi, E, P, Y, Pii=0):\n",
    "    K = len(S)\n",
    "    T = len(Y)\n",
    "    \n",
    "    forward_prob = np.zeros((K, T))\n",
    "    \n",
    "    # Part I: Initialization\n",
    "    for i in range(K):\n",
    "        forward_prob[i][0] = Pi[i] * E[i][Y[0]]\n",
    "    \n",
    "    # Part II: Recursion\n",
    "    for j in range(1, T):\n",
    "        for i in range(K):\n",
    "            forward_prob[i, j] = sum(forward_prob[k, j-1] * P[k][i] * E[i][Y[j]] for k in range(K))\n",
    "    \n",
    "    # Part III: Termination\n",
    "    total_prob = np.sum(forward_prob[:, T-1])\n",
    "    return total_prob\n"
   ]
  },
  {
   "cell_type": "code",
   "execution_count": 22,
   "id": "dd164abb",
   "metadata": {},
   "outputs": [
    {
     "name": "stdout",
     "output_type": "stream",
     "text": [
      "Probability of the given sequence of activities: 0.0054941706\n"
     ]
    }
   ],
   "source": [
    "S = ['rainy', 'cloudy', 'sunny']\n",
    "Pi = [0.35, 0.25, 0.4]\n",
    "P = [\n",
    "    [0.4, 0.2, 0.4],\n",
    "    [0.2, 0.5, 0.3],\n",
    "    [0.3, 0.6, 0.1]\n",
    "]\n",
    "E = [\n",
    "    [0.8, 0.1, 0.1],\n",
    "    [0.2, 0.5, 0.3],\n",
    "    [0.4, 0.2, 0.4]\n",
    "]\n",
    "activities = ['read', 'read', 'shop', 'play', 'shop']\n",
    "observation_indices = [0, 0, 2, 1, 2]  # Convert activities to observation indices(read->0,play->1,shop->2)\n",
    "\n",
    "probability_activities = forward_algorithm(S, Pi, E, P, observation_indices)\n",
    "print(\"Probability of the given sequence of activities:\", probability_activities)"
   ]
  },
  {
   "cell_type": "code",
   "execution_count": 23,
   "id": "af1f4376",
   "metadata": {},
   "outputs": [
    {
     "name": "stdout",
     "output_type": "stream",
     "text": [
      "(b)1. Probability of ['up', 'up', 'up', 'up', 'up', 'up', 'up', 'up']: 0.00044796686548259797\n",
      "(b)2. Probability of ['down', 'up', 'down', 'up', 'down', 'up', 'down', 'up']: 0.00302268125892117\n",
      "(b)3. Probability of ['up', 'down', 'up', 'down', 'up', 'down', 'up', 'down']: 0.006147664980957777\n",
      "(b)4. Probability of ['up', 'up', 'down', 'up', 'down', 'down', 'down', 'up']: 0.004227104015319532\n",
      "(b)5. Probability of ['down', 'down', 'down', 'down', 'down', 'down', 'down', 'down']: 0.009115099658980729\n"
     ]
    }
   ],
   "source": [
    "# Given data\n",
    "S = ['normal', 'alternate', 'direct']\n",
    "Pi = [0.2, 0.3, 0.5]\n",
    "P = [\n",
    "    [0.35, 0.45, 0.2],\n",
    "    [0.28, 0.32, 0.4],\n",
    "    [0.75, 0.1, 0.15]\n",
    "]\n",
    "E = [\n",
    "    [0.1, 0.9],\n",
    "    [0.6, 0.4],\n",
    "    [0.7, 0.3]\n",
    "]\n",
    "#pitch_data = ['up', 'down', 'down', 'down', 'up', 'up', 'up', 'down', 'up', 'down']\n",
    "pitch_data = ['up', 'down']\n",
    "\n",
    "# Convert pitch data to observation indices\n",
    "observation_indices = [0 if pitch == 'up' else 1 for pitch in pitch_data]\n",
    "\n",
    "# (b) Calculate the probability of the given pitch data sequences\n",
    "Y_sequences = [\n",
    "    ['up'] * 8,\n",
    "    ['down', 'up', 'down', 'up', 'down', 'up', 'down', 'up'],\n",
    "    ['up', 'down'] * 4,\n",
    "    ['up', 'up', 'down', 'up', 'down', 'down', 'down', 'up'],\n",
    "    ['down'] * 8\n",
    "]\n",
    "\n",
    "for i, Y in enumerate(Y_sequences, start=1):\n",
    "    observation_indices = [0 if pitch == 'up' else 1 for pitch in Y]\n",
    "    probability = forward_algorithm(S, Pi, E, P, observation_indices)\n",
    "    print(f\"(b){i}. Probability of {Y}: {probability}\")"
   ]
  },
  {
   "cell_type": "code",
   "execution_count": 24,
   "id": "d70eb43a",
   "metadata": {},
   "outputs": [
    {
     "name": "stdout",
     "output_type": "stream",
     "text": [
      "Most likely sequence of aircraft control laws with adjusted emission probabilities: ['direct', 'normal', 'alternate', 'direct', 'normal', 'alternate', 'direct', 'normal', 'alternate', 'direct']\n"
     ]
    }
   ],
   "source": [
    "#2(c)(i)\n",
    "import numpy as np\n",
    "\n",
    "def adjust_emission_probabilities(E):\n",
    "    # Assign equal probabilities to 'up' and 'down' observations for each state\n",
    "    num_states, num_observations = np.shape(E)\n",
    "    equal_probability = 1 / num_observations\n",
    "    adjusted_E = np.full((num_states, num_observations), equal_probability)\n",
    "    return adjusted_E\n",
    "\n",
    "# Given data\n",
    "S = ['normal', 'alternate', 'direct']\n",
    "Pi = [0.2, 0.3, 0.5]\n",
    "P = [\n",
    "    [0.35, 0.45, 0.2],\n",
    "    [0.28, 0.32, 0.4],\n",
    "    [0.75, 0.1, 0.15]\n",
    "]\n",
    "E = [\n",
    "    [0.1, 0.9],\n",
    "    [0.6, 0.4],\n",
    "    [0.7, 0.3]\n",
    "]\n",
    "pitch_data = ['up', 'down', 'down', 'down', 'up', 'up', 'up', 'down', 'up', 'down']\n",
    "\n",
    "# Adjust emission probabilities\n",
    "adjusted_E = adjust_emission_probabilities(E)\n",
    "\n",
    "# Convert pitch data to observation indices\n",
    "observation_indices = [0 if pitch == 'up' else 1 for pitch in pitch_data]\n",
    "\n",
    "# Implement Viterbi algorithm with adjusted parameters\n",
    "most_likely_control_sequence, _ = viterbi_algorithm(S, Pi, adjusted_E, P, observation_indices)\n",
    "print(\"Most likely sequence of aircraft control laws with adjusted emission probabilities:\", [S[state] for state in most_likely_control_sequence])\n",
    "\n"
   ]
  },
  {
   "cell_type": "code",
   "execution_count": 25,
   "id": "4de4cfab",
   "metadata": {},
   "outputs": [
    {
     "name": "stdout",
     "output_type": "stream",
     "text": [
      "Most likely sequence of aircraft control laws with adjusted parameters: ['normal', 'alternate', 'direct', 'normal', 'alternate', 'direct', 'normal', 'alternate', 'direct', 'normal']\n"
     ]
    }
   ],
   "source": [
    "#2(c)(ii)\n",
    "import numpy as np\n",
    "\n",
    "def adjust_emission_probabilities(E):\n",
    "    # Assign equal probabilities to 'up' and 'down' observations for each state\n",
    "    num_states, num_observations = np.shape(E)\n",
    "    equal_probability = 1 / num_observations\n",
    "    adjusted_E = np.full((num_states, num_observations), equal_probability)\n",
    "    return adjusted_E\n",
    "\n",
    "def adjust_initial_probabilities(Pi):\n",
    "    # Assign equal initial probabilities to all states\n",
    "    num_states = len(Pi)\n",
    "    equal_probability = 1 / num_states\n",
    "    adjusted_Pi = np.full(num_states, equal_probability)\n",
    "    return adjusted_Pi\n",
    "\n",
    "# Given data\n",
    "S = ['normal', 'alternate', 'direct']\n",
    "Pi = [0.2, 0.3, 0.5]\n",
    "P = [\n",
    "    [0.35, 0.45, 0.2],\n",
    "    [0.28, 0.32, 0.4],\n",
    "    [0.75, 0.1, 0.15]\n",
    "]\n",
    "E = [\n",
    "    [0.1, 0.9],\n",
    "    [0.6, 0.4],\n",
    "    [0.7, 0.3]\n",
    "]\n",
    "pitch_data = ['up', 'down', 'down', 'down', 'up', 'up', 'up', 'down', 'up', 'down']\n",
    "\n",
    "# Adjust emission probabilities\n",
    "adjusted_E = adjust_emission_probabilities(E)\n",
    "\n",
    "# Adjust initial probabilities\n",
    "adjusted_Pi = adjust_initial_probabilities(Pi)\n",
    "\n",
    "# Convert pitch data to observation indices\n",
    "observation_indices = [0 if pitch == 'up' else 1 for pitch in pitch_data]\n",
    "\n",
    "# Implement Viterbi algorithm with adjusted parameters\n",
    "most_likely_control_sequence, _ = viterbi_algorithm(S, adjusted_Pi, adjusted_E, P, observation_indices)\n",
    "print(\"Most likely sequence of aircraft control laws with adjusted parameters:\", [S[state] for state in most_likely_control_sequence])\n"
   ]
  },
  {
   "cell_type": "code",
   "execution_count": 26,
   "id": "4d20a26b",
   "metadata": {},
   "outputs": [
    {
     "name": "stdout",
     "output_type": "stream",
     "text": [
      "For landing, the aircraft is most likely performing pitch up\n",
      "For take-off, the aircraft is most likely performing pitch up\n",
      "For cruising horizontally, the aircraft is most likely performing pitch up\n",
      "Swapped emission matrix E~:\n",
      " [[0.35 0.65]\n",
      " [0.18 0.82]\n",
      " [0.27 0.73]]\n",
      "Probability of receiving the given pitch data in the next eight 5-minute intervals: 0.001565406338323729\n"
     ]
    }
   ],
   "source": [
    "# Given emission matrix E\n",
    "E = np.array([\n",
    "    [0.65, 0.35],\n",
    "    [0.82, 0.18],\n",
    "    [0.73, 0.27]\n",
    "])\n",
    "\n",
    "# Given initial probability distribution Π\n",
    "Pi = np.array([0.2, 0.3, 0.5])\n",
    "\n",
    "# Given probability transition matrix P\n",
    "P = np.array([\n",
    "    [0.35, 0.45, 0.2],\n",
    "    [0.28, 0.32, 0.4],\n",
    "    [0.75, 0.1, 0.15]\n",
    "])\n",
    "\n",
    "# Define the states\n",
    "S = ['normal', 'alternate', 'direct']\n",
    "\n",
    "# (a) (i)\n",
    "actions = ['landing', 'take-off', 'cruising horizontally']\n",
    "for i, action in enumerate(actions):\n",
    "    probabilities = E[i]  # Probabilities of observations for the current action\n",
    "    observation = 'pitch up' if probabilities[0] > probabilities[1] else 'pitch down'\n",
    "    print(f\"For {action}, the aircraft is most likely performing {observation}\")\n",
    "\n",
    "# (a) (ii)\n",
    "E_tilde = E[:, ::-1]  # Swap the columns of E\n",
    "print(\"Swapped emission matrix E~:\\n\", E_tilde)\n",
    "# If the probability of observing pitch up decreases significantly and pitch down increases,\n",
    "# it might 0indicate potential anomalies during take-off, such as instability or unexpected behavior.\n",
    "\n",
    "# (b) Algorithm to compute the probability of the company receiving the given pitch data\n",
    "# in the next eight 5-minute intervals, starting from a specific time instant t.\n",
    "def compute_probability_next_intervals(initial_state, pitch_data):\n",
    "    # Convert pitch data to observation indices\n",
    "    observations = [0 if pitch == 'up' else 1 for pitch in pitch_data]\n",
    "    # Compute the probability using the forward algorithm\n",
    "    probability = forward_algorithm(S, Pi, E, P, observations, initial_state)\n",
    "    return probability\n",
    "\n",
    "initial_state = 'alternate'  # Given Markovian state at time t\n",
    "pitch_data = ['down', 'down', 'down', 'up', 'up', 'up', 'down', 'up']\n",
    "probability_next_intervals = compute_probability_next_intervals(initial_state, pitch_data)\n",
    "print(\"Probability of receiving the given pitch data in the next eight 5-minute intervals:\", probability_next_intervals)\n"
   ]
  },
  {
   "cell_type": "code",
   "execution_count": 28,
   "id": "96267be0",
   "metadata": {},
   "outputs": [
    {
     "name": "stdout",
     "output_type": "stream",
     "text": [
      "(b)1. Probability of ['up', 'up']: 0.25\n"
     ]
    }
   ],
   "source": [
    "# Given data\n",
    "S = ['normal', 'alternate']\n",
    "Pi = [0.5, 0.5]\n",
    "P = [\n",
    "    [0.5, 0.5],\n",
    "    [0.5, 0.5]\n",
    "]\n",
    "E = [\n",
    "    [0.5, 0.5],\n",
    "    [0.5, 0.5]\n",
    "]\n",
    "pitch_data = ['up', 'down']\n",
    "observation_indices = [0, 1]\n",
    "\n",
    "# (b) Calculate the probability of the given pitch data sequences\n",
    "Y_sequences = [\n",
    "    ['up'] * 2\n",
    "]\n",
    "\n",
    "for i, Y in enumerate(Y_sequences, start=1):\n",
    "    observation_indices = [0 if pitch == 'up' else 1 for pitch in Y]\n",
    "    probability = forward_algorithm(S, Pi, E, P, observation_indices)\n",
    "    print(f\"(b){i}. Probability of {Y}: {probability}\")"
   ]
  }
 ],
 "metadata": {
  "kernelspec": {
   "display_name": "Python 3 (ipykernel)",
   "language": "python",
   "name": "python3"
  },
  "language_info": {
   "codemirror_mode": {
    "name": "ipython",
    "version": 3
   },
   "file_extension": ".py",
   "mimetype": "text/x-python",
   "name": "python",
   "nbconvert_exporter": "python",
   "pygments_lexer": "ipython3",
   "version": "3.11.5"
  }
 },
 "nbformat": 4,
 "nbformat_minor": 5
}
