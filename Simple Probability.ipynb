{
 "cells": [
  {
   "cell_type": "code",
   "execution_count": 2,
   "id": "c20a4e5b",
   "metadata": {},
   "outputs": [
    {
     "name": "stdout",
     "output_type": "stream",
     "text": [
      "With Replacement:\n",
      "P(A) = 0.65\n",
      "P(B) = 0.65\n",
      "P(B|A) = 0.65\n",
      "P(A ∩ B) = 0.42250000000000004\n",
      "\n",
      "Without Replacement:\n",
      "P(A) = 0.65\n",
      "P(B) = 0.6464646464646465\n",
      "P(B|A) = 0.6464646464646465\n",
      "P(A ∩ B) = 0.42020202020202024\n"
     ]
    }
   ],
   "source": [
    "# With Replacement\n",
    "t1 = 100\n",
    "g1 = 65\n",
    "\n",
    "# Probabilities with replacement\n",
    "PA1 = g1 / t1\n",
    "PB1 = PA1\n",
    "PB1_PA1 = PB1\n",
    "PA1_PB1 = PA1 * PB1\n",
    "\n",
    "print(\"With Replacement:\")\n",
    "print(\"P(A) =\", PA1)\n",
    "print(\"P(B) =\", PB1)\n",
    "print(\"P(B|A) =\", PB1_PA1)\n",
    "print(\"P(A ∩ B) =\", PA1_PB1)\n",
    "\n",
    "# Without Replacement\n",
    "t2 = t1 - 1\n",
    "g2 = g1 - 1\n",
    "\n",
    "# Probabilities without replacement\n",
    "PA2 = g1 / t1\n",
    "PB2 = g2 / t2\n",
    "PB2_PA2 = PB2\n",
    "PA2_PB2 = PA2 * PB2\n",
    "\n",
    "print(\"\\nWithout Replacement:\")\n",
    "print(\"P(A) =\", PA2)\n",
    "print(\"P(B) =\", PB2)\n",
    "print(\"P(B|A) =\", PB2_PA2)\n",
    "print(\"P(A ∩ B) =\", PA2_PB2)\n"
   ]
  }
 ],
 "metadata": {
  "kernelspec": {
   "display_name": "Python 3 (ipykernel)",
   "language": "python",
   "name": "python3"
  },
  "language_info": {
   "codemirror_mode": {
    "name": "ipython",
    "version": 3
   },
   "file_extension": ".py",
   "mimetype": "text/x-python",
   "name": "python",
   "nbconvert_exporter": "python",
   "pygments_lexer": "ipython3",
   "version": "3.11.5"
  }
 },
 "nbformat": 4,
 "nbformat_minor": 5
}
