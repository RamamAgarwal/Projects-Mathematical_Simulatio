{
 "cells": [
  {
   "cell_type": "code",
   "execution_count": 1,
   "id": "2bd5d008",
   "metadata": {},
   "outputs": [
    {
     "name": "stdout",
     "output_type": "stream",
     "text": [
      "Enter probability for a message to be spam (P(S)): 0.5\n",
      "Enter P(B|S): 0.125\n",
      "Enter P(B|NS): 0.005\n",
      "Probability of a message containing the word 'Billion' being spam: 0.9615\n"
     ]
    }
   ],
   "source": [
    "def spam_probability(prior_spam, prior_not_spam, spam_given_word, not_spam_given_word):\n",
    "    # Calculating total probability of finding the word (B)\n",
    "    total_word_prob = spam_given_word * prior_spam + not_spam_given_word * prior_not_spam\n",
    "    # Calculating the probability of spam given the word\n",
    "    spam_given_word_prob = (spam_given_word * prior_spam) / total_word_prob\n",
    "    return spam_given_word_prob\n",
    "\n",
    "p_spam = float(input(\"Enter probability for a message to be spam (P(S)): \"))\n",
    "p_not_spam = 1 - p_spam  # Law of Negation\n",
    "p_word_given_spam = float(input(\"Enter P(B|S): \"))\n",
    "p_word_given_not_spam = float(input(\"Enter P(B|NS): \"))\n",
    "spam_prob = spam_probability(p_spam, p_not_spam, p_word_given_spam, p_word_given_not_spam)\n",
    "\n",
    "print(f\"Probability of a message containing the word 'Billion' being spam: {spam_prob:.4f}\")"
   ]
  }
 ],
 "metadata": {
  "kernelspec": {
   "display_name": "Python 3 (ipykernel)",
   "language": "python",
   "name": "python3"
  },
  "language_info": {
   "codemirror_mode": {
    "name": "ipython",
    "version": 3
   },
   "file_extension": ".py",
   "mimetype": "text/x-python",
   "name": "python",
   "nbconvert_exporter": "python",
   "pygments_lexer": "ipython3",
   "version": "3.11.5"
  }
 },
 "nbformat": 4,
 "nbformat_minor": 5
}
