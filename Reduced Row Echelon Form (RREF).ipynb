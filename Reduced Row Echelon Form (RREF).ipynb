{
 "cells": [
  {
   "cell_type": "code",
   "execution_count": 9,
   "id": "b2633008",
   "metadata": {
    "scrolled": false
   },
   "outputs": [
    {
     "name": "stdout",
     "output_type": "stream",
     "text": [
      "[[-0.65        0.          0.          0.          1.          0.        ]\n",
      " [ 0.16       -0.78        0.          0.          0.          0.        ]\n",
      " [ 0.          0.37       -0.543       0.          0.          0.        ]\n",
      " [ 0.          0.          0.         -0.611       2.          0.        ]\n",
      " [ 0.          0.          0.          0.23       -0.75286416  0.        ]\n",
      " [ 0.          0.          0.          0.          0.4        -0.3       ]]\n",
      "(array([[ 1.        ,  0.        ,  0.        ,  0.        ,  0.        ,\n",
      "        -1.15384615],\n",
      "       [ 0.        ,  1.        ,  0.        ,  0.        ,  0.        ,\n",
      "        -0.23668639],\n",
      "       [ 0.        ,  0.        ,  1.        ,  0.        ,  0.        ,\n",
      "        -0.16127802],\n",
      "       [ 0.        ,  0.        ,  0.        ,  1.        ,  0.        ,\n",
      "        -2.45499182],\n",
      "       [ 0.        ,  0.        ,  0.        ,  0.        ,  1.        ,\n",
      "        -0.75      ],\n",
      "       [ 0.        ,  0.        ,  0.        ,  0.        ,  0.        ,\n",
      "         0.        ]]), 5, [0, 1, 2, 3, 4])\n",
      "[6]\n",
      "[[1.15384615384615]\n",
      " [0.236686390532544]\n",
      " [0.161278019331568]\n",
      " [2.45499181669394]\n",
      " [0.750000000000000]\n",
      " [0]]\n"
     ]
    }
   ],
   "source": [
    "import numpy as np\n",
    "import sympy as sp\n",
    "\n",
    "def rref(A):\n",
    "    m,n=np.shape(A)\n",
    "    i=0\n",
    "    j=0\n",
    "    rank=0\n",
    "    l=[]\n",
    "    while i<m and j<n:\n",
    "        p=np.max(np.abs(A[i:m,j]))\n",
    "        max_p=np.argmax(np.abs(A[i:m,j]))\n",
    "        k=max_p+i\n",
    "        if p==0 or p<=0.00000000000001:\n",
    "            j=j+1\n",
    "        else:\n",
    "            rank=rank+1\n",
    "            l.append(j)\n",
    "            A[[i,k]]=A[[k,i]]\n",
    "            A[i,:]=A[i,:]/A[i,j]\n",
    "            for x in range(0,m):\n",
    "                if x!=i:\n",
    "                    A[x,:]=A[x,:]-A[x,j]*A[i,:]\n",
    "            i=i+1\n",
    "            j=j+1\n",
    "            np.set_printoptions(suppress=False)\n",
    "    return A,rank,l\n",
    "P1=7/20\n",
    "P2=11/50\n",
    "P3=457/1000\n",
    "P1f=389/1000\n",
    "P2f=151/611\n",
    "P3f=7/10\n",
    "M12=4/25\n",
    "M23=37/100\n",
    "M12f=23/100\n",
    "M23f=2/5\n",
    "F2m=1\n",
    "F2f=2\n",
    "L=([P1,0,0,0,F2m,0],\n",
    "   [M12,P2,0,0,0,0],\n",
    "   [0,M23,P3,0,0,0],\n",
    "   [0,0,0,P1f,F2f,0],\n",
    "   [0,0,0,M12f,P2f,0],\n",
    "   [0,0,0,0,M23f,P3f])\n",
    "\n",
    "I=np.eye(6,dtype=int)\n",
    "\n",
    "matrix = L - I\n",
    "print(matrix)\n",
    "RREF=rref(matrix)\n",
    "print(RREF)\n",
    "p,q=np.shape(matrix)\n",
    "lf=[]\n",
    "k=RREF[2]\n",
    "for i in range(q):\n",
    "    if i not in k:\n",
    "        lf.append(i+1)\n",
    "print(lf)\n",
    "x=sp.Symbol(\"x\",dtype=int)\n",
    "y=sp.Symbol(\"y\",dtype=int)\n",
    "z=sp.Symbol(\"z\",dtype=int)\n",
    "a=sp.Symbol(\"a\",dtype=int)\n",
    "b=sp.Symbol(\"b\",dtype=int)\n",
    "c=sp.Symbol(\"c\",dtype=int)\n",
    "eq1,eq2,eq3,eq4,eq5,eq6=0,0,0,0,0,0\n",
    "eq1=float(RREF[0][0:1,0:1])*x+float(RREF[0][0:1,1:2])*y+float(RREF[0][0:1,2:3])*z+float(RREF[0][0:1,3:4])*a+float(RREF[0][0:1,4:5])*b+float(RREF[0][0:1,5:6])*c\n",
    "eq2=float(RREF[0][1:2,0:1])*x+float(RREF[0][1:2,1:2])*y+float(RREF[0][1:2,2:3])*z+float(RREF[0][1:2,3:4])*a+float(RREF[0][1:2,4:5])*b+float(RREF[0][1:2,5:6])*c\n",
    "eq3=float(RREF[0][2:3,0:1])*x+float(RREF[0][2:3,1:2])*y+float(RREF[0][2:3,2:3])*z+float(RREF[0][2:3,3:4])*a+float(RREF[0][2:3,4:5])*b+float(RREF[0][2:3,5:6])*c\n",
    "eq4=float(RREF[0][3:4,0:1])*x+float(RREF[0][3:4,1:2])*y+float(RREF[0][3:4,2:3])*z+float(RREF[0][3:4,3:4])*a+float(RREF[0][3:4,4:5])*b+float(RREF[0][3:4,5:6])*c\n",
    "eq5=float(RREF[0][4:5,0:1])*x+float(RREF[0][4:5,1:2])*y+float(RREF[0][4:5,2:3])*z+float(RREF[0][4:5,3:4])*a+float(RREF[0][4:5,4:5])*b+float(RREF[0][4:5,5:6])*c\n",
    "eq6=float(RREF[0][5:6,0:1])*x+float(RREF[0][5:6,1:2])*y+float(RREF[0][5:6,2:3])*z+float(RREF[0][5:6,3:4])*a+float(RREF[0][5:6,4:5])*b+float(RREF[0][5:6,5:6])*c\n",
    "f=sp.solve(eq1,x)\n",
    "g=sp.solve(eq2,y)\n",
    "h=sp.solve(eq3,z)\n",
    "o=sp.solve(eq4,a)\n",
    "r=sp.solve(eq5,b)\n",
    "s=sp.solve(eq6,c)\n",
    "final=np.array([[f[0]/c],[g[0]/c],[h[0]/c],[o[0]/c],[r[0]/c],[0]])\n",
    "print(final)"
   ]
  },
  {
   "cell_type": "code",
   "execution_count": 38,
   "id": "1e26f101",
   "metadata": {},
   "outputs": [
    {
     "data": {
      "text/plain": [
       "array([[47.3076923076923],\n",
       "       [9.70414201183432],\n",
       "       [6.61239879259429],\n",
       "       [100.654664484452],\n",
       "       [30.7500000000000],\n",
       "       [0]], dtype=object)"
      ]
     },
     "execution_count": 38,
     "metadata": {},
     "output_type": "execute_result"
    }
   ],
   "source": [
    "final*41"
   ]
  }
 ],
 "metadata": {
  "kernelspec": {
   "display_name": "Python 3 (ipykernel)",
   "language": "python",
   "name": "python3"
  },
  "language_info": {
   "codemirror_mode": {
    "name": "ipython",
    "version": 3
   },
   "file_extension": ".py",
   "mimetype": "text/x-python",
   "name": "python",
   "nbconvert_exporter": "python",
   "pygments_lexer": "ipython3",
   "version": "3.11.5"
  }
 },
 "nbformat": 4,
 "nbformat_minor": 5
}
