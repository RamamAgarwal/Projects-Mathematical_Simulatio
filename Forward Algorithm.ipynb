{
 "cells": [
  {
   "cell_type": "code",
   "execution_count": 5,
   "id": "5b180c43",
   "metadata": {},
   "outputs": [
    {
     "name": "stdout",
     "output_type": "stream",
     "text": [
      "For landing, the aircraft is most likely performing pitch up\n",
      "For take-off, the aircraft is most likely performing pitch up\n",
      "For cruising horizontally, the aircraft is most likely performing pitch up\n",
      "Swapped emission matrix E~:\n",
      " [[0.35 0.65]\n",
      " [0.18 0.82]\n",
      " [0.27 0.73]]\n",
      "Probability of receiving the given pitch data in the next eight 5-minute intervals: 0.0015654063383237287\n"
     ]
    }
   ],
   "source": [
    "import numpy as np\n",
    "\n",
    "def forward_algorithm(S, Pi, E, P, observations, initial_state):\n",
    "    T = len(observations)\n",
    "    N = len(S)\n",
    "    \n",
    "    # Initialize forward probabilities matrix\n",
    "    forward_probs = np.zeros((N, T))\n",
    "    \n",
    "    # Initialize forward probabilities for the first observation\n",
    "    obs_index = observations[0]\n",
    "    forward_probs[:, 0] = Pi * E[:, obs_index]\n",
    "    \n",
    "    # Iterate over time steps and compute forward probabilities\n",
    "    for t in range(1, T):\n",
    "        obs_index = observations[t]\n",
    "        for j in range(N):\n",
    "            forward_probs[j, t] = np.dot(forward_probs[:, t-1], P[:, j]) * E[j, obs_index]\n",
    "    \n",
    "    # Sum up probabilities of all states at the last time step\n",
    "    prob = np.sum(forward_probs[:, -1])\n",
    "    return prob\n",
    "\n",
    "E = np.array([\n",
    "    [0.65, 0.35],\n",
    "    [0.82, 0.18],\n",
    "    [0.73, 0.27]\n",
    "])\n",
    "\n",
    "Pi = np.array([0.2, 0.3, 0.5])\n",
    "\n",
    "P = np.array([\n",
    "    [0.35, 0.45, 0.2],\n",
    "    [0.28, 0.32, 0.4],\n",
    "    [0.75, 0.1, 0.15]\n",
    "])\n",
    "\n",
    "S = ['normal', 'alternate', 'direct']\n",
    "\n",
    "# (a) (i)\n",
    "actions = ['landing', 'take-off', 'cruising horizontally']\n",
    "for i, action in enumerate(actions):\n",
    "    probabilities = E[i]\n",
    "    observation = 'pitch up' if probabilities[0] > probabilities[1] else 'pitch down'\n",
    "    print(f\"For {action}, the aircraft is most likely performing {observation}\")\n",
    "\n",
    "# (a) (ii)\n",
    "E_tilde = E[:, ::-1] \n",
    "print(\"Swapped emission matrix E~:\\n\", E_tilde)\n",
    "\n",
    "def compute_probability_next_intervals(initial_state, pitch_data):\n",
    "    observations = [0 if pitch == 'up' else 1 for pitch in pitch_data]\n",
    "    probability = forward_algorithm(S, Pi, E, P, observations, initial_state)\n",
    "    return probability\n",
    "\n",
    "\n",
    "initial_state = 'alternate'  \n",
    "pitch_data = ['down', 'down', 'down', 'up', 'up', 'up', 'down', 'up']\n",
    "probability_next_intervals = compute_probability_next_intervals(initial_state, pitch_data)\n",
    "print(\"Probability of receiving the given pitch data in the next eight 5-minute intervals:\", probability_next_intervals)\n"
   ]
  }
 ],
 "metadata": {
  "kernelspec": {
   "display_name": "Python 3 (ipykernel)",
   "language": "python",
   "name": "python3"
  },
  "language_info": {
   "codemirror_mode": {
    "name": "ipython",
    "version": 3
   },
   "file_extension": ".py",
   "mimetype": "text/x-python",
   "name": "python",
   "nbconvert_exporter": "python",
   "pygments_lexer": "ipython3",
   "version": "3.11.5"
  }
 },
 "nbformat": 4,
 "nbformat_minor": 5
}
