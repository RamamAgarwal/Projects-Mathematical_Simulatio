{
 "cells": [
  {
   "cell_type": "code",
   "execution_count": 5,
   "id": "82bfa5b9",
   "metadata": {},
   "outputs": [
    {
     "name": "stdout",
     "output_type": "stream",
     "text": [
      "Row Echelon Form:\n",
      "[[ 1.          0.          0.          0.          2.85714286  0.\n",
      "   0.57265714]\n",
      " [ 0.          1.          1.23513514  0.          0.          0.\n",
      "   0.0757027 ]\n",
      " [-0.         -0.          1.         -0.          1.68234391 -0.\n",
      "   0.24719319]\n",
      " [ 0.          0.          0.          1.          5.14138817  0.\n",
      "   1.09627249]\n",
      " [-0.         -0.         -0.         -0.          1.         -0.\n",
      "   0.13028098]\n",
      " [ 0.          0.          0.          0.          0.          1.\n",
      "   0.17369658]]\n"
     ]
    }
   ],
   "source": [
    "import numpy as np\n",
    "\n",
    "L = np.array([[7/20, 0, 0, 0, 1, 0],\n",
    "    [4/25, 11/50, 0, 0, 0, 0],\n",
    "    [0, 37/100, 457/1000, 0, 0, 0],\n",
    "    [0, 0, 0, 389/1000, 2, 0],\n",
    "    [0, 0, 0, 23/100, 151/611, 0],\n",
    "    [0, 0, 0, 0, 2/5, 7/10]])\n",
    "\n",
    "B = np.array([[0.20043],\n",
    "             [0.04111],\n",
    "             [0.02801],\n",
    "             [0.42645],\n",
    "             [0.13028],\n",
    "             [0.17370]])\n",
    "\n",
    "A = np.array([[0.35, 0, 0, 0, 1, 0, 0.20043],\n",
    "              [0.16, 0.22, 0, 0, 0, 0, 0.04111],\n",
    "              [0, 0.37, 0.457, 0, 0, 0, 0.02801],\n",
    "              [0, 0, 0, 0.389, 2, 0, 0.42645],\n",
    "              [0, 0, 0, 0.23, 0.24713584, 0, 0.13028],\n",
    "              [0, 0, 0, 0, 0.4, 0.7, 0.1737]])\n",
    "\n",
    "m, n = A.shape  # Get the number of rows and columns\n",
    "\n",
    "\n",
    "i = 0\n",
    "j = 0\n",
    "\n",
    "while i < m and j < n:\n",
    "    max_row = np.argmax(np.abs(A[i:, j])) + i\n",
    "\n",
    "    A[[i, max_row]] = A[[max_row, i]]\n",
    "\n",
    "    A[i, :] = A[i, :] / A[i, j]\n",
    "\n",
    "    for k in range(i + 1, m):\n",
    "        factor = A[k, j]\n",
    "        A[k, :] = A[k, :] - factor * A[i, :]\n",
    "\n",
    "    i += 1\n",
    "    j += 1\n",
    "\n",
    "print(\"Row Echelon Form:\")\n",
    "print(A)"
   ]
  },
  {
   "cell_type": "code",
   "execution_count": 6,
   "id": "86555d59",
   "metadata": {},
   "outputs": [
    {
     "name": "stdout",
     "output_type": "stream",
     "text": [
      "[[ 1.          0.          0.          0.          2.85714286  0.\n",
      "   0.57265714]\n",
      " [ 0.          1.          0.          0.         -2.07792208  0.\n",
      "  -0.22961429]\n",
      " [ 0.          0.          1.          0.          1.68234391  0.\n",
      "   0.24719319]\n",
      " [ 0.          0.          0.          1.          5.14138817  0.\n",
      "   1.09627249]\n",
      " [-0.         -0.         -0.         -0.          1.         -0.\n",
      "   0.13028098]\n",
      " [ 0.          0.          0.          0.          0.          1.\n",
      "   0.17369658]]\n"
     ]
    }
   ],
   "source": [
    "augmented_matrix = np.column_stack((L, B))\n",
    "\n",
    "m, n = augmented_matrix.shape\n",
    "for i in range(m):\n",
    "    pivot = augmented_matrix[i, i]\n",
    "    augmented_matrix[i, :] = augmented_matrix[i, :] / pivot\n",
    "    for j in range(i + 1, m):\n",
    "        factor = augmented_matrix[j, i]\n",
    "        augmented_matrix[j, :] = augmented_matrix[j, :] - factor * augmented_matrix[i, :]\n",
    "print(augmented_matrix)\n"
   ]
  }
 ],
 "metadata": {
  "kernelspec": {
   "display_name": "Python 3 (ipykernel)",
   "language": "python",
   "name": "python3"
  },
  "language_info": {
   "codemirror_mode": {
    "name": "ipython",
    "version": 3
   },
   "file_extension": ".py",
   "mimetype": "text/x-python",
   "name": "python",
   "nbconvert_exporter": "python",
   "pygments_lexer": "ipython3",
   "version": "3.11.5"
  }
 },
 "nbformat": 4,
 "nbformat_minor": 5
}
